{
 "cells": [
  {
   "cell_type": "code",
   "execution_count": 42,
   "metadata": {
    "collapsed": false
   },
   "outputs": [],
   "source": [
    "import math\n",
    "import random\n",
    "def forwardMultiplyGate(x,y):\n",
    "    return x*y\n",
    "def forwardAddGate(x,y):\n",
    "    return x+y\n",
    "def forwardCicuit(x,y,z):\n",
    "    return forwardMultiplyGate(forwardAddGate(x,y),z)\n"
   ]
  },
  {
   "cell_type": "code",
   "execution_count": 7,
   "metadata": {
    "collapsed": false
   },
   "outputs": [
    {
     "data": {
      "text/plain": [
       "-6"
      ]
     },
     "execution_count": 7,
     "metadata": {},
     "output_type": "execute_result"
    }
   ],
   "source": [
    "forwardMultiplyGate(-2,3)"
   ]
  },
  {
   "cell_type": "code",
   "execution_count": 28,
   "metadata": {
    "collapsed": false
   },
   "outputs": [],
   "source": [
    "bestVal = float('-inf')\n",
    "x = -2\n",
    "y = 3\n",
    "step = 0.01\n",
    "best_x = x\n",
    "best_y = y\n",
    "\n",
    "for i in range(1000):\n",
    "    x_try = x + step*(random.random()*2-1)\n",
    "    y_try = y + step*(random.random()*2-1)\n",
    "    out = forwardMultiplyGate(x_try,y_try)\n",
    "    if out>bestVal:\n",
    "        bestVal = out\n",
    "        best_x = x_try\n",
    "        best_y = y_try\n"
   ]
  },
  {
   "cell_type": "code",
   "execution_count": 31,
   "metadata": {
    "collapsed": false
   },
   "outputs": [],
   "source": [
    "x = -2\n",
    "y = 3\n",
    "h = 0.0001\n",
    "out = forwardMultiplyGate(x,y)\n",
    "\n",
    "xph = x+h\n",
    "out2 = forwardMultiplyGate(xph,y)\n",
    "dx = (out2-out)/h\n",
    "\n",
    "yph = y+h\n",
    "out3 = forwardMultiplyGate(x,yph)\n",
    "dy = (out3-out)/h"
   ]
  },
  {
   "cell_type": "code",
   "execution_count": 37,
   "metadata": {
    "collapsed": false
   },
   "outputs": [],
   "source": [
    "x = -2\n",
    "y = 3\n",
    "step_size = 0.01\n",
    "out = forwardMultiplyGate(x,y)\n",
    "x = x + step_size*dx\n",
    "y = y + step_size*dy\n",
    "out_new = forwardMultiplyGate(x,y)"
   ]
  },
  {
   "cell_type": "code",
   "execution_count": 40,
   "metadata": {
    "collapsed": false
   },
   "outputs": [
    {
     "data": {
      "text/plain": [
       "(3.00000000000189, -2.0000000000042206, -6, -5.87059999999986)"
      ]
     },
     "execution_count": 40,
     "metadata": {},
     "output_type": "execute_result"
    }
   ],
   "source": [
    "dx,dy,out,out_new"
   ]
  },
  {
   "cell_type": "code",
   "execution_count": 41,
   "metadata": {
    "collapsed": false
   },
   "outputs": [
    {
     "name": "stdout",
     "output_type": "stream",
     "text": [
      "-6\n",
      "-5.8706\n"
     ]
    }
   ],
   "source": [
    "x = -2\n",
    "y = 3\n",
    "print forwardMultiplyGate(x,y)\n",
    "dx = y\n",
    "dy = x\n",
    "x += step_size*dx\n",
    "y += step_size*dy\n",
    "print forwardMultiplyGate(x,y)"
   ]
  },
  {
   "cell_type": "code",
   "execution_count": 53,
   "metadata": {
    "collapsed": false
   },
   "outputs": [],
   "source": [
    "x = -2\n",
    "y = 5\n",
    "z = -4\n",
    "\n",
    "q = forwardAddGate(x,y)\n",
    "f = forwardMultiplyGate(q,z)\n",
    "\n",
    "fz = q\n",
    "fq = z\n",
    "qx = 1\n",
    "qy = 1\n",
    "fx = qx*fq\n",
    "fy = qy*fq\n"
   ]
  },
  {
   "cell_type": "code",
   "execution_count": 54,
   "metadata": {
    "collapsed": true
   },
   "outputs": [],
   "source": [
    "x = x + step_size*fx\n",
    "y = y + step_size*fy\n",
    "z = z + step_size*fz"
   ]
  },
  {
   "cell_type": "code",
   "execution_count": 55,
   "metadata": {
    "collapsed": false
   },
   "outputs": [
    {
     "data": {
      "text/plain": [
       "(-2.04, 4.96, -3.97)"
      ]
     },
     "execution_count": 55,
     "metadata": {},
     "output_type": "execute_result"
    }
   ],
   "source": [
    "x,y,z"
   ]
  },
  {
   "cell_type": "code",
   "execution_count": 56,
   "metadata": {
    "collapsed": false
   },
   "outputs": [
    {
     "data": {
      "text/plain": [
       "(-4, -4, 3)"
      ]
     },
     "execution_count": 56,
     "metadata": {},
     "output_type": "execute_result"
    }
   ],
   "source": [
    "fx,fy,fz"
   ]
  },
  {
   "cell_type": "code",
   "execution_count": 57,
   "metadata": {
    "collapsed": false
   },
   "outputs": [
    {
     "data": {
      "text/plain": [
       "-11.5924"
      ]
     },
     "execution_count": 57,
     "metadata": {},
     "output_type": "execute_result"
    }
   ],
   "source": [
    "forwardCicuit(x,y,z)"
   ]
  },
  {
   "cell_type": "code",
   "execution_count": null,
   "metadata": {
    "collapsed": true
   },
   "outputs": [],
   "source": []
  }
 ],
 "metadata": {
  "kernelspec": {
   "display_name": "Python 2",
   "language": "python",
   "name": "python2"
  },
  "language_info": {
   "codemirror_mode": {
    "name": "ipython",
    "version": 2
   },
   "file_extension": ".py",
   "mimetype": "text/x-python",
   "name": "python",
   "nbconvert_exporter": "python",
   "pygments_lexer": "ipython2",
   "version": "2.7.10"
  }
 },
 "nbformat": 4,
 "nbformat_minor": 0
}
