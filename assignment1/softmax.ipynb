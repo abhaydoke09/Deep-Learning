{
 "cells": [
  {
   "cell_type": "markdown",
   "metadata": {},
   "source": [
    "# Softmax exercise\n",
    "\n",
    "*Complete and hand in this completed worksheet (including its outputs and any supporting code outside of the worksheet) with your assignment submission. For more details see the [assignments page](https://compsci697l.github.io/assignments.html) on the course website.*\n",
    "\n",
    "This exercise is analogous to the SVM exercise. You will:\n",
    "\n",
    "- implement a fully-vectorized **loss function** for the Softmax classifier\n",
    "- implement the fully-vectorized expression for its **analytic gradient**\n",
    "- **check your implementation** with numerical gradient\n",
    "- use a validation set to **tune the learning rate and regularization** strength\n",
    "- **optimize** the loss function with **SGD**\n",
    "- **visualize** the final learned weights\n"
   ]
  },
  {
   "cell_type": "code",
   "execution_count": 5,
   "metadata": {
    "collapsed": false
   },
   "outputs": [
    {
     "name": "stdout",
     "output_type": "stream",
     "text": [
      "The autoreload extension is already loaded. To reload it, use:\n",
      "  %reload_ext autoreload\n"
     ]
    }
   ],
   "source": [
    "import random\n",
    "import numpy as np\n",
    "from asgn1.data_utils import load_CIFAR10\n",
    "import matplotlib.pyplot as plt\n",
    "%matplotlib inline\n",
    "plt.rcParams['figure.figsize'] = (10.0, 8.0) # set default size of plots\n",
    "plt.rcParams['image.interpolation'] = 'nearest'\n",
    "plt.rcParams['image.cmap'] = 'gray'\n",
    "\n",
    "# for auto-reloading extenrnal modules\n",
    "# see http://stackoverflow.com/questions/1907993/autoreload-of-modules-in-ipython\n",
    "%load_ext autoreload\n",
    "%autoreload 2"
   ]
  },
  {
   "cell_type": "code",
   "execution_count": 6,
   "metadata": {
    "collapsed": false
   },
   "outputs": [
    {
     "name": "stdout",
     "output_type": "stream",
     "text": [
      "Train data shape:  (49000, 3073)\n",
      "Train labels shape:  (49000,)\n",
      "Validation data shape:  (1000, 3073)\n",
      "Validation labels shape:  (1000,)\n",
      "Test data shape:  (1000, 3073)\n",
      "Test labels shape:  (1000,)\n",
      "dev data shape:  (500, 3073)\n",
      "dev labels shape:  (500,)\n"
     ]
    }
   ],
   "source": [
    "def get_CIFAR10_data(num_training=49000, num_validation=1000, num_test=1000, num_dev=500):\n",
    "  \"\"\"\n",
    "  Load the CIFAR-10 dataset from disk and perform preprocessing to prepare\n",
    "  it for the linear classifier. These are the same steps as we used for the\n",
    "  SVM, but condensed to a single function.  \n",
    "  \"\"\"\n",
    "  # Load the raw CIFAR-10 data\n",
    "  cifar10_dir = 'datasets/cifar-10-batches-py'\n",
    "  X_train, y_train, X_test, y_test = load_CIFAR10(cifar10_dir)\n",
    "  \n",
    "  # subsample the data\n",
    "  mask = range(num_training, num_training + num_validation)\n",
    "  X_val = X_train[mask]\n",
    "  y_val = y_train[mask]\n",
    "  mask = range(num_training)\n",
    "  X_train = X_train[mask]\n",
    "  y_train = y_train[mask]\n",
    "  mask = range(num_test)\n",
    "  X_test = X_test[mask]\n",
    "  y_test = y_test[mask]\n",
    "  mask = np.random.choice(num_training, num_dev, replace=False)\n",
    "  X_dev = X_train[mask]\n",
    "  y_dev = y_train[mask]\n",
    "  \n",
    "  # Preprocessing: reshape the image data into rows\n",
    "  X_train = np.reshape(X_train, (X_train.shape[0], -1))\n",
    "  X_val = np.reshape(X_val, (X_val.shape[0], -1))\n",
    "  X_test = np.reshape(X_test, (X_test.shape[0], -1))\n",
    "  X_dev = np.reshape(X_dev, (X_dev.shape[0], -1))\n",
    "  \n",
    "  # Normalize the data: subtract the mean image\n",
    "  mean_image = np.mean(X_train, axis = 0)\n",
    "  X_train -= mean_image\n",
    "  X_val -= mean_image\n",
    "  X_test -= mean_image\n",
    "  X_dev -= mean_image\n",
    "  \n",
    "  # add bias dimension and transform into columns\n",
    "  X_train = np.hstack([X_train, np.ones((X_train.shape[0], 1))])\n",
    "  X_val = np.hstack([X_val, np.ones((X_val.shape[0], 1))])\n",
    "  X_test = np.hstack([X_test, np.ones((X_test.shape[0], 1))])\n",
    "  X_dev = np.hstack([X_dev, np.ones((X_dev.shape[0], 1))])\n",
    "  \n",
    "  return X_train, y_train, X_val, y_val, X_test, y_test, X_dev, y_dev\n",
    "\n",
    "\n",
    "# Invoke the above function to get our data.\n",
    "X_train, y_train, X_val, y_val, X_test, y_test, X_dev, y_dev = get_CIFAR10_data()\n",
    "print 'Train data shape: ', X_train.shape\n",
    "print 'Train labels shape: ', y_train.shape\n",
    "print 'Validation data shape: ', X_val.shape\n",
    "print 'Validation labels shape: ', y_val.shape\n",
    "print 'Test data shape: ', X_test.shape\n",
    "print 'Test labels shape: ', y_test.shape\n",
    "print 'dev data shape: ', X_dev.shape\n",
    "print 'dev labels shape: ', y_dev.shape"
   ]
  },
  {
   "cell_type": "markdown",
   "metadata": {},
   "source": [
    "## Softmax Classifier\n",
    "\n",
    "Your code for this section will all be written inside **asgn1/classifiers/softmax.py**. \n"
   ]
  },
  {
   "cell_type": "code",
   "execution_count": 7,
   "metadata": {
    "collapsed": false
   },
   "outputs": [
    {
     "name": "stdout",
     "output_type": "stream",
     "text": [
      "loss: 2.340780\n",
      "sanity check: 2.302585\n"
     ]
    }
   ],
   "source": [
    "# First implement the naive softmax loss function with nested loops.\n",
    "# Open the file asgn1/classifiers/softmax.py and implement the\n",
    "# softmax_loss_naive function.\n",
    "\n",
    "from asgn1.classifiers.softmax import softmax_loss_naive\n",
    "import time\n",
    "\n",
    "# Generate a random softmax weight matrix and use it to compute the loss.\n",
    "W = np.random.randn(3073, 10) * 0.0001\n",
    "loss, grad = softmax_loss_naive(W, X_dev, y_dev, 0.0)\n",
    "\n",
    "# As a rough sanity check, our loss should be something close to -log(0.1).\n",
    "print 'loss: %f' % loss\n",
    "print 'sanity check: %f' % (-np.log(0.1))"
   ]
  },
  {
   "cell_type": "markdown",
   "metadata": {},
   "source": [
    "## Inline Question 1:\n",
    "Why do we expect our loss to be close to -log(0.1)? Explain briefly.**\n",
    "\n",
    "**Your answer:** *Before implementing our loss function, average probability of each example to belong to one of the 10 classes would be ~0.1.*\n"
   ]
  },
  {
   "cell_type": "code",
   "execution_count": 8,
   "metadata": {
    "collapsed": false
   },
   "outputs": [
    {
     "name": "stdout",
     "output_type": "stream",
     "text": [
      "numerical: 1.254569 analytic: 1.254569, relative error: 7.090891e-08\n",
      "numerical: 0.662603 analytic: 0.662603, relative error: 6.126683e-08\n",
      "numerical: 0.609487 analytic: 0.609487, relative error: 8.072719e-08\n",
      "numerical: -0.154994 analytic: -0.154994, relative error: 1.717565e-07\n",
      "numerical: 0.574605 analytic: 0.574605, relative error: 9.183856e-08\n",
      "numerical: 0.437746 analytic: 0.437746, relative error: 9.774721e-08\n",
      "numerical: -0.175480 analytic: -0.175480, relative error: 1.271734e-07\n",
      "numerical: 1.050321 analytic: 1.050321, relative error: 9.671437e-09\n",
      "numerical: -2.110943 analytic: -2.110943, relative error: 5.167025e-08\n",
      "numerical: -1.409158 analytic: -1.409158, relative error: 4.943534e-08\n",
      "numerical: -1.333766 analytic: -1.348038, relative error: 5.321881e-03\n",
      "numerical: -0.648415 analytic: -0.644089, relative error: 3.346553e-03\n",
      "numerical: 0.113151 analytic: 0.120181, relative error: 3.012939e-02\n",
      "numerical: -1.459849 analytic: -1.460336, relative error: 1.667801e-04\n",
      "numerical: -3.853230 analytic: -3.833144, relative error: 2.613205e-03\n",
      "numerical: -0.621588 analytic: -0.609713, relative error: 9.643736e-03\n",
      "numerical: -1.536982 analytic: -1.541400, relative error: 1.435352e-03\n",
      "numerical: 1.328075 analytic: 1.329073, relative error: 3.754587e-04\n",
      "numerical: 1.717048 analytic: 1.701479, relative error: 4.554402e-03\n",
      "numerical: -0.131406 analytic: -0.134757, relative error: 1.258774e-02\n"
     ]
    }
   ],
   "source": [
    "# Complete the implementation of softmax_loss_naive and implement a (naive)\n",
    "# version of the gradient that uses nested loops.\n",
    "loss, grad = softmax_loss_naive(W, X_dev, y_dev, 0.0)\n",
    "\n",
    "# As we did for the SVM, use numeric gradient checking as a debugging tool.\n",
    "# The numeric gradient should be close to the analytic gradient.\n",
    "from asgn1.gradient_check import grad_check_sparse\n",
    "f = lambda w: softmax_loss_naive(w, X_dev, y_dev, 0.0)[0]\n",
    "grad_numerical = grad_check_sparse(f, W, grad, 10)\n",
    "\n",
    "# similar to SVM case, do another gradient check with regularization\n",
    "loss, grad = softmax_loss_naive(W, X_dev, y_dev, 1e2)\n",
    "f = lambda w: softmax_loss_naive(w, X_dev, y_dev, 1e2)[0]\n",
    "grad_numerical = grad_check_sparse(f, W, grad, 10)"
   ]
  },
  {
   "cell_type": "code",
   "execution_count": 54,
   "metadata": {
    "collapsed": false
   },
   "outputs": [
    {
     "name": "stdout",
     "output_type": "stream",
     "text": [
      "naive loss: 2.317848e+00 computed in 0.180739s\n",
      "vectorized loss: 2.317848e+00 computed in 0.005567s\n",
      "Loss difference: 0.000000\n",
      "Gradient difference: 0.000000\n"
     ]
    }
   ],
   "source": [
    "# Now that we have a naive implementation of the softmax loss function and its gradient,\n",
    "# implement a vectorized version in softmax_loss_vectorized.\n",
    "# The two versions should compute the same results, but the vectorized version should be\n",
    "# much faster.\n",
    "tic = time.time()\n",
    "loss_naive, grad_naive = softmax_loss_naive(W, X_dev, y_dev, 0.00001)\n",
    "toc = time.time()\n",
    "print 'naive loss: %e computed in %fs' % (loss_naive, toc - tic)\n",
    "\n",
    "from asgn1.classifiers.softmax import softmax_loss_vectorized\n",
    "tic = time.time()\n",
    "loss_vectorized, grad_vectorized = softmax_loss_vectorized(W, X_dev, y_dev, 0.00001)\n",
    "toc = time.time()\n",
    "print 'vectorized loss: %e computed in %fs' % (loss_vectorized, toc - tic)\n",
    "\n",
    "# As we did for the SVM, we use the Frobenius norm to compare the two versions\n",
    "# of the gradient.\n",
    "grad_difference = np.linalg.norm(grad_naive - grad_vectorized, ord='fro')\n",
    "print 'Loss difference: %f' % np.abs(loss_naive - loss_vectorized)\n",
    "print 'Gradient difference: %f' % grad_difference"
   ]
  },
  {
   "cell_type": "code",
   "execution_count": 60,
   "metadata": {
    "collapsed": false
   },
   "outputs": [
    {
     "name": "stdout",
     "output_type": "stream",
     "text": [
      "iteration 0 / 4000: loss 218.555646\n",
      "iteration 100 / 4000: loss 188.444004\n",
      "iteration 200 / 4000: loss 163.579203\n",
      "iteration 300 / 4000: loss 142.087899\n",
      "iteration 400 / 4000: loss 123.394416\n",
      "iteration 500 / 4000: loss 107.349562\n",
      "iteration 600 / 4000: loss 93.268110\n",
      "iteration 700 / 4000: loss 81.267954\n",
      "iteration 800 / 4000: loss 70.663963\n",
      "iteration 900 / 4000: loss 61.605637\n",
      "iteration 1000 / 4000: loss 53.783036\n",
      "iteration 1100 / 4000: loss 46.967737\n",
      "iteration 1200 / 4000: loss 41.084176\n",
      "iteration 1300 / 4000: loss 35.877528\n",
      "iteration 1400 / 4000: loss 31.340206\n",
      "iteration 1500 / 4000: loss 27.556685\n",
      "iteration 1600 / 4000: loss 24.246965\n",
      "iteration 1700 / 4000: loss 21.242570\n",
      "iteration 1800 / 4000: loss 18.716567\n",
      "iteration 1900 / 4000: loss 16.638867\n",
      "iteration 2000 / 4000: loss 14.608235\n",
      "iteration 2100 / 4000: loss 13.008516\n",
      "iteration 2200 / 4000: loss 11.466071\n",
      "iteration 2300 / 4000: loss 10.252187\n",
      "iteration 2400 / 4000: loss 9.115287\n",
      "iteration 2500 / 4000: loss 8.282985\n",
      "iteration 2600 / 4000: loss 7.339623\n",
      "iteration 2700 / 4000: loss 6.588193\n",
      "iteration 2800 / 4000: loss 6.018365\n",
      "iteration 2900 / 4000: loss 5.556409\n",
      "iteration 3000 / 4000: loss 5.037837\n",
      "iteration 3100 / 4000: loss 4.679776\n",
      "iteration 3200 / 4000: loss 4.337888\n",
      "iteration 3300 / 4000: loss 4.056934\n",
      "iteration 3400 / 4000: loss 3.789349\n",
      "iteration 3500 / 4000: loss 3.512465\n",
      "iteration 3600 / 4000: loss 3.224632\n",
      "iteration 3700 / 4000: loss 3.109362\n",
      "iteration 3800 / 4000: loss 2.985444\n",
      "iteration 3900 / 4000: loss 2.899532\n"
     ]
    },
    {
     "name": "stderr",
     "output_type": "stream",
     "text": [
      "/Users/abhaydoke/anaconda2/lib/python2.7/site-packages/ipykernel/__main__.py:28: DeprecationWarning: elementwise == comparison failed; this will raise an error in the future.\n"
     ]
    },
    {
     "name": "stdout",
     "output_type": "stream",
     "text": [
      "iteration 0 / 4000: loss 22.258189\n",
      "iteration 100 / 4000: loss 18.910219\n",
      "iteration 200 / 4000: loss 18.252406\n",
      "iteration 300 / 4000: loss 17.858228\n",
      "iteration 400 / 4000: loss 17.522638\n",
      "iteration 500 / 4000: loss 17.556829\n",
      "iteration 600 / 4000: loss 17.437485\n",
      "iteration 700 / 4000: loss 16.789430\n",
      "iteration 800 / 4000: loss 16.343705\n",
      "iteration 900 / 4000: loss 16.504268\n",
      "iteration 1000 / 4000: loss 16.597722\n",
      "iteration 1100 / 4000: loss 16.002086\n",
      "iteration 1200 / 4000: loss 16.032263\n",
      "iteration 1300 / 4000: loss 15.789166\n",
      "iteration 1400 / 4000: loss 15.571211\n",
      "iteration 1500 / 4000: loss 15.444673\n",
      "iteration 1600 / 4000: loss 15.177638\n",
      "iteration 1700 / 4000: loss 14.754436\n",
      "iteration 1800 / 4000: loss 14.876637\n",
      "iteration 1900 / 4000: loss 14.675944\n",
      "iteration 2000 / 4000: loss 14.377810\n",
      "iteration 2100 / 4000: loss 14.448950\n",
      "iteration 2200 / 4000: loss 14.263500\n",
      "iteration 2300 / 4000: loss 14.233646\n",
      "iteration 2400 / 4000: loss 13.997676\n",
      "iteration 2500 / 4000: loss 13.879928\n",
      "iteration 2600 / 4000: loss 13.608757\n",
      "iteration 2700 / 4000: loss 13.424001\n",
      "iteration 2800 / 4000: loss 13.443858\n",
      "iteration 2900 / 4000: loss 13.352691\n",
      "iteration 3000 / 4000: loss 13.016164\n",
      "iteration 3100 / 4000: loss 12.967079\n",
      "iteration 3200 / 4000: loss 12.896585\n",
      "iteration 3300 / 4000: loss 12.765024\n",
      "iteration 3400 / 4000: loss 12.813169\n",
      "iteration 3500 / 4000: loss 12.632048\n",
      "iteration 3600 / 4000: loss 12.356867\n",
      "iteration 3700 / 4000: loss 12.138906\n",
      "iteration 3800 / 4000: loss 12.198278\n",
      "iteration 3900 / 4000: loss 11.981042\n",
      "iteration 0 / 4000: loss 218.728681\n",
      "iteration 100 / 4000: loss 53.718022\n",
      "iteration 200 / 4000: loss 14.565384\n",
      "iteration 300 / 4000: loss 5.029498\n",
      "iteration 400 / 4000: loss 2.750912\n",
      "iteration 500 / 4000: loss 2.084874\n",
      "iteration 600 / 4000: loss 2.051427\n",
      "iteration 700 / 4000: loss 2.043973\n",
      "iteration 800 / 4000: loss 1.897557\n",
      "iteration 900 / 4000: loss 1.951234\n",
      "iteration 1000 / 4000: loss 2.044145\n",
      "iteration 1100 / 4000: loss 2.019522\n",
      "iteration 1200 / 4000: loss 2.011197\n",
      "iteration 1300 / 4000: loss 1.978288\n",
      "iteration 1400 / 4000: loss 1.945691\n",
      "iteration 1500 / 4000: loss 1.980990\n",
      "iteration 1600 / 4000: loss 2.090306\n",
      "iteration 1700 / 4000: loss 2.052599\n",
      "iteration 1800 / 4000: loss 1.977882\n",
      "iteration 1900 / 4000: loss 1.895782\n",
      "iteration 2000 / 4000: loss 2.134183\n",
      "iteration 2100 / 4000: loss 1.986382\n",
      "iteration 2200 / 4000: loss 1.999188\n",
      "iteration 2300 / 4000: loss 2.010276\n",
      "iteration 2400 / 4000: loss 1.953658\n",
      "iteration 2500 / 4000: loss 1.993447\n",
      "iteration 2600 / 4000: loss 2.014110\n",
      "iteration 2700 / 4000: loss 2.004762\n",
      "iteration 2800 / 4000: loss 1.988312\n",
      "iteration 2900 / 4000: loss 2.005859\n",
      "iteration 3000 / 4000: loss 2.057613\n",
      "iteration 3100 / 4000: loss 2.092707\n",
      "iteration 3200 / 4000: loss 2.055861\n",
      "iteration 3300 / 4000: loss 2.056497\n",
      "iteration 3400 / 4000: loss 1.986889\n",
      "iteration 3500 / 4000: loss 1.991905\n",
      "iteration 3600 / 4000: loss 2.006349\n",
      "iteration 3700 / 4000: loss 2.027850\n",
      "iteration 3800 / 4000: loss 2.090055\n",
      "iteration 3900 / 4000: loss 1.994547\n",
      "iteration 0 / 4000: loss 21.145042\n",
      "iteration 100 / 4000: loss 16.557090\n",
      "iteration 200 / 4000: loss 14.669863\n",
      "iteration 300 / 4000: loss 13.161720\n",
      "iteration 400 / 4000: loss 12.145687\n",
      "iteration 500 / 4000: loss 11.126386\n",
      "iteration 600 / 4000: loss 10.082530\n",
      "iteration 700 / 4000: loss 9.033382\n",
      "iteration 800 / 4000: loss 8.626430\n",
      "iteration 900 / 4000: loss 7.877393\n",
      "iteration 1000 / 4000: loss 7.361965\n",
      "iteration 1100 / 4000: loss 6.636596\n",
      "iteration 1200 / 4000: loss 6.252004\n",
      "iteration 1300 / 4000: loss 5.694418\n",
      "iteration 1400 / 4000: loss 5.344431\n",
      "iteration 1500 / 4000: loss 4.964451\n",
      "iteration 1600 / 4000: loss 4.638020\n",
      "iteration 1700 / 4000: loss 4.415076\n",
      "iteration 1800 / 4000: loss 4.112750\n",
      "iteration 1900 / 4000: loss 3.847536\n",
      "iteration 2000 / 4000: loss 3.610003\n",
      "iteration 2100 / 4000: loss 3.506018\n",
      "iteration 2200 / 4000: loss 3.331377\n",
      "iteration 2300 / 4000: loss 3.154908\n",
      "iteration 2400 / 4000: loss 3.199116\n",
      "iteration 2500 / 4000: loss 2.913551\n",
      "iteration 2600 / 4000: loss 2.840957\n",
      "iteration 2700 / 4000: loss 2.752779\n",
      "iteration 2800 / 4000: loss 2.652849\n",
      "iteration 2900 / 4000: loss 2.511879\n",
      "iteration 3000 / 4000: loss 2.479060\n",
      "iteration 3100 / 4000: loss 2.286760\n",
      "iteration 3200 / 4000: loss 2.302420\n",
      "iteration 3300 / 4000: loss 2.372570\n",
      "iteration 3400 / 4000: loss 2.271470\n",
      "iteration 3500 / 4000: loss 2.201318\n",
      "iteration 3600 / 4000: loss 2.256211\n",
      "iteration 3700 / 4000: loss 2.207279\n",
      "iteration 3800 / 4000: loss 1.982748\n",
      "iteration 3900 / 4000: loss 2.111993\n",
      "lr 1.000000e-07 reg 5.000000e+02 train accuracy: 0.000000 val accuracy: 0.302000\n",
      "lr 1.000000e-07 reg 7.000000e+03 train accuracy: 0.000000 val accuracy: 0.397000\n",
      "lr 1.000000e-06 reg 5.000000e+02 train accuracy: 0.000000 val accuracy: 0.409000\n",
      "lr 1.000000e-06 reg 7.000000e+03 train accuracy: 0.000000 val accuracy: 0.386000\n",
      "best validation accuracy achieved during cross-validation: 0.409000\n"
     ]
    }
   ],
   "source": [
    "# Use the validation set to tune hyperparameters (regularization strength and\n",
    "# learning rate). You should experiment with different ranges for the learning\n",
    "# rates and regularization strengths; if you are careful you should be able to\n",
    "# get a classification accuracy of over 0.35 on the validation set.\n",
    "from asgn1.classifiers import Softmax\n",
    "results = {}\n",
    "best_val = -1\n",
    "best_softmax = None\n",
    "#learning_rates = [1e-7, 5e-7]\n",
    "#regularization_strengths = [5e4, 1e8]\n",
    "learning_rates = [1e-7, 1e-6]\n",
    "regularization_strengths = [7e3, 5e2]\n",
    "#learning_rates = np.logspace(-10, 10, 10)\n",
    "#regularization_strengths = np.logspace(-3, 6, 10)\n",
    "################################################################################\n",
    "# TODO:                                                                        #\n",
    "# Use the validation set to set the learning rate and regularization strength. #\n",
    "# This should be identical to the validation that you did for the SVM; save    #\n",
    "# the best trained softmax classifer in best_softmax.                          #\n",
    "################################################################################\n",
    "for lr in learning_rates:\n",
    "    for rs in regularization_strengths:\n",
    "        softmax = Softmax()\n",
    "        loss_hist = softmax.train(X_train, y_train, learning_rate=lr, reg=rs,\n",
    "                      num_iters=4000, batch_size= 200, verbose=True)\n",
    "        \n",
    "        y_train_pred = softmax.predict(X_train)\n",
    "        training_accuracy = np.mean(y_train_pred == y_val)\n",
    "        \n",
    "        y_val_pred = softmax.predict(X_val)\n",
    "        validation_accuracy = np.mean(y_val_pred == y_val)\n",
    "        \n",
    "        if(validation_accuracy > best_val):\n",
    "            best_val = validation_accuracy\n",
    "            best_softmax = softmax\n",
    "        \n",
    "        results[(lr, rs)] = (training_accuracy, validation_accuracy)\n",
    "################################################################################\n",
    "#                              END OF YOUR CODE                                #\n",
    "################################################################################\n",
    "    \n",
    "# Print out results.\n",
    "for lr, reg in sorted(results):\n",
    "    train_accuracy, val_accuracy = results[(lr, reg)]\n",
    "    print 'lr %e reg %e train accuracy: %f val accuracy: %f' % (\n",
    "                lr, reg, train_accuracy, val_accuracy)\n",
    "    \n",
    "print 'best validation accuracy achieved during cross-validation: %f' % best_val"
   ]
  },
  {
   "cell_type": "code",
   "execution_count": 61,
   "metadata": {
    "collapsed": false
   },
   "outputs": [
    {
     "name": "stdout",
     "output_type": "stream",
     "text": [
      "softmax on raw pixels final test set accuracy: 0.401000\n"
     ]
    }
   ],
   "source": [
    "# evaluate on test set\n",
    "# Evaluate the best softmax on test set\n",
    "y_test_pred = best_softmax.predict(X_test)\n",
    "test_accuracy = np.mean(y_test == y_test_pred)\n",
    "print 'softmax on raw pixels final test set accuracy: %f' % (test_accuracy, )"
   ]
  },
  {
   "cell_type": "code",
   "execution_count": 62,
   "metadata": {
    "collapsed": false
   },
   "outputs": [
    {
     "data": {
      "image/png": "[encoded data removed]",
      "text/plain": [
       "<matplotlib.figure.Figure at 0x119ed2310>"
      ]
     },
     "metadata": {},
     "output_type": "display_data"
    }
   ],
   "source": [
    "# Visualize the learned weights for each class\n",
    "w = best_softmax.W[:-1,:] # strip out the bias\n",
    "w = w.reshape(32, 32, 3, 10)\n",
    "\n",
    "w_min, w_max = np.min(w), np.max(w)\n",
    "\n",
    "classes = ['plane', 'car', 'bird', 'cat', 'deer', 'dog', 'frog', 'horse', 'ship', 'truck']\n",
    "for i in xrange(10):\n",
    "  plt.subplot(2, 5, i + 1)\n",
    "  \n",
    "  # Rescale the weights to be between 0 and 255\n",
    "  wimg = 255.0 * (w[:, :, :, i].squeeze() - w_min) / (w_max - w_min)\n",
    "  plt.imshow(wimg.astype('uint8'))\n",
    "  plt.axis('off')\n",
    "  plt.title(classes[i])"
   ]
  },
  {
   "cell_type": "code",
   "execution_count": null,
   "metadata": {
    "collapsed": true
   },
   "outputs": [],
   "source": []
  }
 ],
 "metadata": {
  "anaconda-cloud": {},
  "kernelspec": {
   "display_name": "Python [Root]",
   "language": "python",
   "name": "Python [Root]"
  },
  "language_info": {
   "codemirror_mode": {
    "name": "ipython",
    "version": 2
   },
   "file_extension": ".py",
   "mimetype": "text/x-python",
   "name": "python",
   "nbconvert_exporter": "python",
   "pygments_lexer": "ipython2",
   "version": "2.7.12"
  }
 },
 "nbformat": 4,
 "nbformat_minor": 0
}
