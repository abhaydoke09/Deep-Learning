{
 "cells": [
  {
   "cell_type": "markdown",
   "metadata": {},
   "source": [
    "# Softmax exercise\n",
    "\n",
    "*Complete and hand in this completed worksheet (including its outputs and any supporting code outside of the worksheet) with your assignment submission. For more details see the [assignments page](https://compsci697l.github.io/assignments.html) on the course website.*\n",
    "\n",
    "This exercise is analogous to the SVM exercise. You will:\n",
    "\n",
    "- implement a fully-vectorized **loss function** for the Softmax classifier\n",
    "- implement the fully-vectorized expression for its **analytic gradient**\n",
    "- **check your implementation** with numerical gradient\n",
    "- use a validation set to **tune the learning rate and regularization** strength\n",
    "- **optimize** the loss function with **SGD**\n",
    "- **visualize** the final learned weights\n"
   ]
  },
  {
   "cell_type": "code",
   "execution_count": 1,
   "metadata": {
    "collapsed": false
   },
   "outputs": [],
   "source": [
    "import random\n",
    "import numpy as np\n",
    "from asgn1.data_utils import load_CIFAR10\n",
    "import matplotlib.pyplot as plt\n",
    "%matplotlib inline\n",
    "plt.rcParams['figure.figsize'] = (10.0, 8.0) # set default size of plots\n",
    "plt.rcParams['image.interpolation'] = 'nearest'\n",
    "plt.rcParams['image.cmap'] = 'gray'\n",
    "\n",
    "# for auto-reloading extenrnal modules\n",
    "# see http://stackoverflow.com/questions/1907993/autoreload-of-modules-in-ipython\n",
    "%load_ext autoreload\n",
    "%autoreload 2"
   ]
  },
  {
   "cell_type": "code",
   "execution_count": 2,
   "metadata": {
    "collapsed": false
   },
   "outputs": [
    {
     "name": "stdout",
     "output_type": "stream",
     "text": [
      "Train data shape:  (49000, 3073)\n",
      "Train labels shape:  (49000,)\n",
      "Validation data shape:  (1000, 3073)\n",
      "Validation labels shape:  (1000,)\n",
      "Test data shape:  (1000, 3073)\n",
      "Test labels shape:  (1000,)\n",
      "dev data shape:  (500, 3073)\n",
      "dev labels shape:  (500,)\n"
     ]
    }
   ],
   "source": [
    "def get_CIFAR10_data(num_training=49000, num_validation=1000, num_test=1000, num_dev=500):\n",
    "  \"\"\"\n",
    "  Load the CIFAR-10 dataset from disk and perform preprocessing to prepare\n",
    "  it for the linear classifier. These are the same steps as we used for the\n",
    "  SVM, but condensed to a single function.  \n",
    "  \"\"\"\n",
    "  # Load the raw CIFAR-10 data\n",
    "  cifar10_dir = 'datasets/cifar-10-batches-py'\n",
    "  X_train, y_train, X_test, y_test = load_CIFAR10(cifar10_dir)\n",
    "  \n",
    "  # subsample the data\n",
    "  mask = range(num_training, num_training + num_validation)\n",
    "  X_val = X_train[mask]\n",
    "  y_val = y_train[mask]\n",
    "  mask = range(num_training)\n",
    "  X_train = X_train[mask]\n",
    "  y_train = y_train[mask]\n",
    "  mask = range(num_test)\n",
    "  X_test = X_test[mask]\n",
    "  y_test = y_test[mask]\n",
    "  mask = np.random.choice(num_training, num_dev, replace=False)\n",
    "  X_dev = X_train[mask]\n",
    "  y_dev = y_train[mask]\n",
    "  \n",
    "  # Preprocessing: reshape the image data into rows\n",
    "  X_train = np.reshape(X_train, (X_train.shape[0], -1))\n",
    "  X_val = np.reshape(X_val, (X_val.shape[0], -1))\n",
    "  X_test = np.reshape(X_test, (X_test.shape[0], -1))\n",
    "  X_dev = np.reshape(X_dev, (X_dev.shape[0], -1))\n",
    "  \n",
    "  # Normalize the data: subtract the mean image\n",
    "  mean_image = np.mean(X_train, axis = 0)\n",
    "  X_train -= mean_image\n",
    "  X_val -= mean_image\n",
    "  X_test -= mean_image\n",
    "  X_dev -= mean_image\n",
    "  \n",
    "  # add bias dimension and transform into columns\n",
    "  X_train = np.hstack([X_train, np.ones((X_train.shape[0], 1))])\n",
    "  X_val = np.hstack([X_val, np.ones((X_val.shape[0], 1))])\n",
    "  X_test = np.hstack([X_test, np.ones((X_test.shape[0], 1))])\n",
    "  X_dev = np.hstack([X_dev, np.ones((X_dev.shape[0], 1))])\n",
    "  \n",
    "  return X_train, y_train, X_val, y_val, X_test, y_test, X_dev, y_dev\n",
    "\n",
    "\n",
    "# Invoke the above function to get our data.\n",
    "X_train, y_train, X_val, y_val, X_test, y_test, X_dev, y_dev = get_CIFAR10_data()\n",
    "print 'Train data shape: ', X_train.shape\n",
    "print 'Train labels shape: ', y_train.shape\n",
    "print 'Validation data shape: ', X_val.shape\n",
    "print 'Validation labels shape: ', y_val.shape\n",
    "print 'Test data shape: ', X_test.shape\n",
    "print 'Test labels shape: ', y_test.shape\n",
    "print 'dev data shape: ', X_dev.shape\n",
    "print 'dev labels shape: ', y_dev.shape"
   ]
  },
  {
   "cell_type": "markdown",
   "metadata": {},
   "source": [
    "## Softmax Classifier\n",
    "\n",
    "Your code for this section will all be written inside **asgn1/classifiers/softmax.py**. \n"
   ]
  },
  {
   "cell_type": "code",
   "execution_count": 3,
   "metadata": {
    "collapsed": false
   },
   "outputs": [
    {
     "name": "stdout",
     "output_type": "stream",
     "text": [
      "loss: 2.317848\n",
      "sanity check: 2.302585\n"
     ]
    }
   ],
   "source": [
    "# First implement the naive softmax loss function with nested loops.\n",
    "# Open the file asgn1/classifiers/softmax.py and implement the\n",
    "# softmax_loss_naive function.\n",
    "\n",
    "from asgn1.classifiers.softmax import softmax_loss_naive\n",
    "import time\n",
    "\n",
    "# Generate a random softmax weight matrix and use it to compute the loss.\n",
    "W = np.random.randn(3073, 10) * 0.0001\n",
    "loss, grad = softmax_loss_naive(W, X_dev, y_dev, 0.0)\n",
    "\n",
    "# As a rough sanity check, our loss should be something close to -log(0.1).\n",
    "print 'loss: %f' % loss\n",
    "print 'sanity check: %f' % (-np.log(0.1))"
   ]
  },
  {
   "cell_type": "markdown",
   "metadata": {},
   "source": [
    "## Inline Question 1:\n",
    "Why do we expect our loss to be close to -log(0.1)? Explain briefly.**\n",
    "\n",
    "**Your answer:** *Fill this in*\n"
   ]
  },
  {
   "cell_type": "code",
   "execution_count": 8,
   "metadata": {
    "collapsed": false
   },
   "outputs": [
    {
     "name": "stdout",
     "output_type": "stream",
     "text": [
      "numerical: -5.513803 analytic: -5.513803, relative error: 5.632811e-09\n",
      "numerical: -0.898889 analytic: -0.898889, relative error: 1.891514e-08\n",
      "numerical: 1.416832 analytic: 1.416832, relative error: 9.181811e-09\n",
      "numerical: -0.352675 analytic: -0.352675, relative error: 1.064801e-07\n",
      "numerical: -0.877334 analytic: -0.877334, relative error: 2.524455e-08\n",
      "numerical: -0.760075 analytic: -0.760074, relative error: 1.984843e-08\n",
      "numerical: -0.236788 analytic: -0.236788, relative error: 6.226784e-10\n",
      "numerical: -2.506345 analytic: -2.506345, relative error: 2.712943e-08\n",
      "numerical: 0.289397 analytic: 0.289397, relative error: 2.428140e-08\n",
      "numerical: -1.584457 analytic: -1.584457, relative error: 8.170729e-09\n",
      "numerical: -0.343774 analytic: -0.347976, relative error: 6.073358e-03\n",
      "numerical: -3.281652 analytic: -3.291983, relative error: 1.571529e-03\n",
      "numerical: 0.616108 analytic: 0.626203, relative error: 8.126361e-03\n",
      "numerical: -0.478613 analytic: -0.491290, relative error: 1.306954e-02\n",
      "numerical: -0.967490 analytic: -0.988417, relative error: 1.069922e-02\n",
      "numerical: -0.709157 analytic: -0.720524, relative error: 7.950374e-03\n",
      "numerical: 0.574721 analytic: 0.569705, relative error: 4.383188e-03\n",
      "numerical: 1.027401 analytic: 1.023407, relative error: 1.947633e-03\n",
      "numerical: 0.947052 analytic: 0.933692, relative error: 7.103263e-03\n",
      "numerical: -0.375750 analytic: -0.381748, relative error: 7.918119e-03\n"
     ]
    }
   ],
   "source": [
    "# Complete the implementation of softmax_loss_naive and implement a (naive)\n",
    "# version of the gradient that uses nested loops.\n",
    "loss, grad = softmax_loss_naive(W, X_dev, y_dev, 0.0)\n",
    "\n",
    "# As we did for the SVM, use numeric gradient checking as a debugging tool.\n",
    "# The numeric gradient should be close to the analytic gradient.\n",
    "from asgn1.gradient_check import grad_check_sparse\n",
    "f = lambda w: softmax_loss_naive(w, X_dev, y_dev, 0.0)[0]\n",
    "grad_numerical = grad_check_sparse(f, W, grad, 10)\n",
    "\n",
    "# similar to SVM case, do another gradient check with regularization\n",
    "loss, grad = softmax_loss_naive(W, X_dev, y_dev, 1e2)\n",
    "f = lambda w: softmax_loss_naive(w, X_dev, y_dev, 1e2)[0]\n",
    "grad_numerical = grad_check_sparse(f, W, grad, 10)"
   ]
  },
  {
   "cell_type": "code",
   "execution_count": 54,
   "metadata": {
    "collapsed": false
   },
   "outputs": [
    {
     "name": "stdout",
     "output_type": "stream",
     "text": [
      "naive loss: 2.317848e+00 computed in 0.180739s\n",
      "vectorized loss: 2.317848e+00 computed in 0.005567s\n",
      "Loss difference: 0.000000\n",
      "Gradient difference: 0.000000\n"
     ]
    }
   ],
   "source": [
    "# Now that we have a naive implementation of the softmax loss function and its gradient,\n",
    "# implement a vectorized version in softmax_loss_vectorized.\n",
    "# The two versions should compute the same results, but the vectorized version should be\n",
    "# much faster.\n",
    "tic = time.time()\n",
    "loss_naive, grad_naive = softmax_loss_naive(W, X_dev, y_dev, 0.00001)\n",
    "toc = time.time()\n",
    "print 'naive loss: %e computed in %fs' % (loss_naive, toc - tic)\n",
    "\n",
    "from asgn1.classifiers.softmax import softmax_loss_vectorized\n",
    "tic = time.time()\n",
    "loss_vectorized, grad_vectorized = softmax_loss_vectorized(W, X_dev, y_dev, 0.00001)\n",
    "toc = time.time()\n",
    "print 'vectorized loss: %e computed in %fs' % (loss_vectorized, toc - tic)\n",
    "\n",
    "# As we did for the SVM, we use the Frobenius norm to compare the two versions\n",
    "# of the gradient.\n",
    "grad_difference = np.linalg.norm(grad_naive - grad_vectorized, ord='fro')\n",
    "print 'Loss difference: %f' % np.abs(loss_naive - loss_vectorized)\n",
    "print 'Gradient difference: %f' % grad_difference"
   ]
  },
  {
   "cell_type": "code",
   "execution_count": 58,
   "metadata": {
    "collapsed": false
   },
   "outputs": [
    {
     "name": "stdout",
     "output_type": "stream",
     "text": [
      "iteration 0 / 4000: loss 1556.003893\n",
      "iteration 100 / 4000: loss 569.912145\n",
      "iteration 200 / 4000: loss 209.829876\n",
      "iteration 300 / 4000: loss 78.210638\n",
      "iteration 400 / 4000: loss 30.045766\n",
      "iteration 500 / 4000: loss 12.305638\n",
      "iteration 600 / 4000: loss 5.942743\n",
      "iteration 700 / 4000: loss 3.531275\n",
      "iteration 800 / 4000: loss 2.682589\n",
      "iteration 900 / 4000: loss 2.365561\n",
      "iteration 1000 / 4000: loss 2.276117\n",
      "iteration 1100 / 4000: loss 2.212316\n",
      "iteration 1200 / 4000: loss 2.219382\n",
      "iteration 1300 / 4000: loss 2.191429\n",
      "iteration 1400 / 4000: loss 2.163143\n",
      "iteration 1500 / 4000: loss 2.200658\n",
      "iteration 1600 / 4000: loss 2.099195\n",
      "iteration 1700 / 4000: loss 2.136211\n",
      "iteration 1800 / 4000: loss 2.105452\n",
      "iteration 1900 / 4000: loss 2.203889\n",
      "iteration 2000 / 4000: loss 2.188743\n",
      "iteration 2100 / 4000: loss 2.188906\n",
      "iteration 2200 / 4000: loss 2.160675\n",
      "iteration 2300 / 4000: loss 2.138782\n",
      "iteration 2400 / 4000: loss 2.163730\n",
      "iteration 2500 / 4000: loss 2.155764\n",
      "iteration 2600 / 4000: loss 2.185746\n",
      "iteration 2700 / 4000: loss 2.203707\n",
      "iteration 2800 / 4000: loss 2.222081\n",
      "iteration 2900 / 4000: loss 2.190209\n",
      "iteration 3000 / 4000: loss 2.145224\n",
      "iteration 3100 / 4000: loss 2.099526\n",
      "iteration 3200 / 4000: loss 2.152307\n",
      "iteration 3300 / 4000: loss 2.242047\n",
      "iteration 3400 / 4000: loss 2.151518\n",
      "iteration 3500 / 4000: loss 2.163618\n",
      "iteration 3600 / 4000: loss 2.171743\n",
      "iteration 3700 / 4000: loss 2.190242\n",
      "iteration 3800 / 4000: loss 2.137872\n",
      "iteration 3900 / 4000: loss 2.189353\n"
     ]
    },
    {
     "name": "stderr",
     "output_type": "stream",
     "text": [
      "/Users/abhaydoke/anaconda2/lib/python2.7/site-packages/ipykernel/__main__.py:28: DeprecationWarning: elementwise == comparison failed; this will raise an error in the future.\n",
      "asgn1/classifiers/softmax.py:83: RuntimeWarning: divide by zero encountered in log\n",
      "  loss = np.sum(-np.log(scores[y]))/num_train + reg*np.sum(W*W)\n"
     ]
    },
    {
     "name": "stdout",
     "output_type": "stream",
     "text": [
      "iteration 0 / 4000: loss 3052282.218703\n",
      "iteration 100 / 4000: loss inf\n"
     ]
    },
    {
     "name": "stderr",
     "output_type": "stream",
     "text": [
      "asgn1/classifiers/softmax.py:84: RuntimeWarning: overflow encountered in double_scalars\n",
      "  #print loss.shape\n",
      "asgn1/classifiers/softmax.py:84: RuntimeWarning: overflow encountered in multiply\n",
      "  #print loss.shape\n"
     ]
    },
    {
     "name": "stdout",
     "output_type": "stream",
     "text": [
      "iteration 200 / 4000: loss inf\n",
      "iteration 300 / 4000: loss inf\n"
     ]
    },
    {
     "name": "stderr",
     "output_type": "stream",
     "text": [
      "asgn1/classifiers/softmax.py:91: RuntimeWarning: overflow encountered in multiply\n",
      "  #############################################################################\n"
     ]
    },
    {
     "name": "stdout",
     "output_type": "stream",
     "text": [
      "iteration 400 / 4000: loss nan\n",
      "iteration 500 / 4000: loss nan\n",
      "iteration 600 / 4000: loss nan\n",
      "iteration 700 / 4000: loss nan\n",
      "iteration 800 / 4000: loss nan\n",
      "iteration 900 / 4000: loss nan\n",
      "iteration 1000 / 4000: loss nan\n",
      "iteration 1100 / 4000: loss nan\n",
      "iteration 1200 / 4000: loss nan\n",
      "iteration 1300 / 4000: loss nan\n",
      "iteration 1400 / 4000: loss nan\n",
      "iteration 1500 / 4000: loss nan\n",
      "iteration 1600 / 4000: loss nan\n",
      "iteration 1700 / 4000: loss nan\n",
      "iteration 1800 / 4000: loss nan\n",
      "iteration 1900 / 4000: loss nan\n",
      "iteration 2000 / 4000: loss nan\n",
      "iteration 2100 / 4000: loss nan\n",
      "iteration 2200 / 4000: loss nan\n",
      "iteration 2300 / 4000: loss nan\n",
      "iteration 2400 / 4000: loss nan\n",
      "iteration 2500 / 4000: loss nan\n",
      "iteration 2600 / 4000: loss nan\n",
      "iteration 2700 / 4000: loss nan\n",
      "iteration 2800 / 4000: loss nan\n",
      "iteration 2900 / 4000: loss nan\n",
      "iteration 3000 / 4000: loss nan\n",
      "iteration 3100 / 4000: loss nan\n",
      "iteration 3200 / 4000: loss nan\n",
      "iteration 3300 / 4000: loss nan\n",
      "iteration 3400 / 4000: loss nan\n",
      "iteration 3500 / 4000: loss nan\n",
      "iteration 3600 / 4000: loss nan\n",
      "iteration 3700 / 4000: loss nan\n",
      "iteration 3800 / 4000: loss nan\n",
      "iteration 3900 / 4000: loss nan\n",
      "iteration 0 / 4000: loss 1529.306512\n",
      "iteration 100 / 4000: loss 11.714026\n",
      "iteration 200 / 4000: loss 2.202387\n",
      "iteration 300 / 4000: loss 2.145963\n",
      "iteration 400 / 4000: loss 2.133353\n",
      "iteration 500 / 4000: loss 2.153908\n",
      "iteration 600 / 4000: loss 2.185997\n",
      "iteration 700 / 4000: loss 2.138210\n",
      "iteration 800 / 4000: loss 2.146675\n",
      "iteration 900 / 4000: loss 2.173842\n",
      "iteration 1000 / 4000: loss 2.138285\n",
      "iteration 1100 / 4000: loss 2.214578\n",
      "iteration 1200 / 4000: loss 2.189868\n",
      "iteration 1300 / 4000: loss 2.164560\n",
      "iteration 1400 / 4000: loss 2.269672\n",
      "iteration 1500 / 4000: loss 2.198970\n",
      "iteration 1600 / 4000: loss 2.144602\n",
      "iteration 1700 / 4000: loss 2.175586\n",
      "iteration 1800 / 4000: loss 2.128475\n",
      "iteration 1900 / 4000: loss 2.128120\n",
      "iteration 2000 / 4000: loss 2.150440\n",
      "iteration 2100 / 4000: loss 2.183137\n",
      "iteration 2200 / 4000: loss 2.214003\n",
      "iteration 2300 / 4000: loss 2.198498\n",
      "iteration 2400 / 4000: loss 2.142504\n",
      "iteration 2500 / 4000: loss 2.160554\n",
      "iteration 2600 / 4000: loss 2.119234\n",
      "iteration 2700 / 4000: loss 2.180835\n",
      "iteration 2800 / 4000: loss 2.128597\n",
      "iteration 2900 / 4000: loss 2.145656\n",
      "iteration 3000 / 4000: loss 2.161748\n",
      "iteration 3100 / 4000: loss 2.155721\n",
      "iteration 3200 / 4000: loss 2.177995\n",
      "iteration 3300 / 4000: loss 2.150548\n",
      "iteration 3400 / 4000: loss 2.209271\n",
      "iteration 3500 / 4000: loss 2.201125\n",
      "iteration 3600 / 4000: loss 2.196814\n",
      "iteration 3700 / 4000: loss 2.169953\n",
      "iteration 3800 / 4000: loss 2.175954\n",
      "iteration 3900 / 4000: loss 2.196723\n",
      "iteration 0 / 4000: loss 3037280.459544\n",
      "iteration 100 / 4000: loss inf\n",
      "iteration 200 / 4000: loss nan\n",
      "iteration 300 / 4000: loss nan\n",
      "iteration 400 / 4000: loss nan\n",
      "iteration 500 / 4000: loss nan\n",
      "iteration 600 / 4000: loss nan\n",
      "iteration 700 / 4000: loss nan\n",
      "iteration 800 / 4000: loss nan\n",
      "iteration 900 / 4000: loss nan\n",
      "iteration 1000 / 4000: loss nan\n",
      "iteration 1100 / 4000: loss nan\n",
      "iteration 1200 / 4000: loss nan\n",
      "iteration 1300 / 4000: loss nan\n",
      "iteration 1400 / 4000: loss nan\n",
      "iteration 1500 / 4000: loss nan\n",
      "iteration 1600 / 4000: loss nan\n",
      "iteration 1700 / 4000: loss nan\n",
      "iteration 1800 / 4000: loss nan\n",
      "iteration 1900 / 4000: loss nan\n",
      "iteration 2000 / 4000: loss nan\n",
      "iteration 2100 / 4000: loss nan\n",
      "iteration 2200 / 4000: loss nan\n",
      "iteration 2300 / 4000: loss nan\n",
      "iteration 2400 / 4000: loss nan\n",
      "iteration 2500 / 4000: loss nan\n",
      "iteration 2600 / 4000: loss nan\n",
      "iteration 2700 / 4000: loss nan\n",
      "iteration 2800 / 4000: loss nan\n",
      "iteration 2900 / 4000: loss nan\n",
      "iteration 3000 / 4000: loss nan\n",
      "iteration 3100 / 4000: loss nan\n",
      "iteration 3200 / 4000: loss nan\n",
      "iteration 3300 / 4000: loss nan\n",
      "iteration 3400 / 4000: loss nan\n",
      "iteration 3500 / 4000: loss nan\n",
      "iteration 3600 / 4000: loss nan\n",
      "iteration 3700 / 4000: loss nan\n",
      "iteration 3800 / 4000: loss nan\n",
      "iteration 3900 / 4000: loss nan\n",
      "lr 1.000000e-07 reg 5.000000e+04 train accuracy: 0.000000 val accuracy: 0.348000\n",
      "lr 1.000000e-07 reg 1.000000e+08 train accuracy: 0.000000 val accuracy: 0.087000\n",
      "lr 5.000000e-07 reg 5.000000e+04 train accuracy: 0.000000 val accuracy: 0.335000\n",
      "lr 5.000000e-07 reg 1.000000e+08 train accuracy: 0.000000 val accuracy: 0.087000\n",
      "best validation accuracy achieved during cross-validation: 0.348000\n"
     ]
    }
   ],
   "source": [
    "# Use the validation set to tune hyperparameters (regularization strength and\n",
    "# learning rate). You should experiment with different ranges for the learning\n",
    "# rates and regularization strengths; if you are careful you should be able to\n",
    "# get a classification accuracy of over 0.35 on the validation set.\n",
    "from asgn1.classifiers import Softmax\n",
    "results = {}\n",
    "best_val = -1\n",
    "best_softmax = None\n",
    "#learning_rates = [1e-7, 5e-7]\n",
    "#regularization_strengths = [5e4, 1e8]\n",
    "learning_rates = [1e-7, 1e-6]\n",
    "regularization_strengths = [7e3, 5e2]\n",
    "#learning_rates = np.logspace(-10, 10, 10)\n",
    "#regularization_strengths = np.logspace(-3, 6, 10)\n",
    "################################################################################\n",
    "# TODO:                                                                        #\n",
    "# Use the validation set to set the learning rate and regularization strength. #\n",
    "# This should be identical to the validation that you did for the SVM; save    #\n",
    "# the best trained softmax classifer in best_softmax.                          #\n",
    "################################################################################\n",
    "for lr in learning_rates:\n",
    "    for rs in regularization_strengths:\n",
    "        softmax = Softmax()\n",
    "        loss_hist = softmax.train(X_train, y_train, learning_rate=lr, reg=rs,\n",
    "                      num_iters=4000, batch_size= 200, verbose=True)\n",
    "        \n",
    "        y_train_pred = softmax.predict(X_train)\n",
    "        training_accuracy = np.mean(y_train_pred == y_val)\n",
    "        \n",
    "        y_val_pred = softmax.predict(X_val)\n",
    "        validation_accuracy = np.mean(y_val_pred == y_val)\n",
    "        \n",
    "        if(validation_accuracy > best_val):\n",
    "            best_val = validation_accuracy\n",
    "            best_softmax = softmax\n",
    "        \n",
    "        results[(lr, rs)] = (training_accuracy, validation_accuracy)\n",
    "################################################################################\n",
    "#                              END OF YOUR CODE                                #\n",
    "################################################################################\n",
    "    \n",
    "# Print out results.\n",
    "for lr, reg in sorted(results):\n",
    "    train_accuracy, val_accuracy = results[(lr, reg)]\n",
    "    print 'lr %e reg %e train accuracy: %f val accuracy: %f' % (\n",
    "                lr, reg, train_accuracy, val_accuracy)\n",
    "    \n",
    "print 'best validation accuracy achieved during cross-validation: %f' % best_val"
   ]
  },
  {
   "cell_type": "code",
   "execution_count": 59,
   "metadata": {
    "collapsed": false
   },
   "outputs": [
    {
     "name": "stdout",
     "output_type": "stream",
     "text": [
      "softmax on raw pixels final test set accuracy: 0.346000\n"
     ]
    }
   ],
   "source": [
    "# evaluate on test set\n",
    "# Evaluate the best softmax on test set\n",
    "y_test_pred = best_softmax.predict(X_test)\n",
    "test_accuracy = np.mean(y_test == y_test_pred)\n",
    "print 'softmax on raw pixels final test set accuracy: %f' % (test_accuracy, )"
   ]
  },
  {
   "cell_type": "code",
   "execution_count": 57,
   "metadata": {
    "collapsed": false
   },
   "outputs": [
    {
     "data": {
      "image/png": "[encoded data removed]",
      "text/plain": [
       "<matplotlib.figure.Figure at 0x110fcb150>"
      ]
     },
     "metadata": {},
     "output_type": "display_data"
    }
   ],
   "source": [
    "# Visualize the learned weights for each class\n",
    "w = best_softmax.W[:-1,:] # strip out the bias\n",
    "w = w.reshape(32, 32, 3, 10)\n",
    "\n",
    "w_min, w_max = np.min(w), np.max(w)\n",
    "\n",
    "classes = ['plane', 'car', 'bird', 'cat', 'deer', 'dog', 'frog', 'horse', 'ship', 'truck']\n",
    "for i in xrange(10):\n",
    "  plt.subplot(2, 5, i + 1)\n",
    "  \n",
    "  # Rescale the weights to be between 0 and 255\n",
    "  wimg = 255.0 * (w[:, :, :, i].squeeze() - w_min) / (w_max - w_min)\n",
    "  plt.imshow(wimg.astype('uint8'))\n",
    "  plt.axis('off')\n",
    "  plt.title(classes[i])"
   ]
  },
  {
   "cell_type": "code",
   "execution_count": null,
   "metadata": {
    "collapsed": true
   },
   "outputs": [],
   "source": []
  }
 ],
 "metadata": {
  "anaconda-cloud": {},
  "kernelspec": {
   "display_name": "Python [Root]",
   "language": "python",
   "name": "Python [Root]"
  },
  "language_info": {
   "codemirror_mode": {
    "name": "ipython",
    "version": 2
   },
   "file_extension": ".py",
   "mimetype": "text/x-python",
   "name": "python",
   "nbconvert_exporter": "python",
   "pygments_lexer": "ipython2",
   "version": "2.7.12"
  }
 },
 "nbformat": 4,
 "nbformat_minor": 0
}
